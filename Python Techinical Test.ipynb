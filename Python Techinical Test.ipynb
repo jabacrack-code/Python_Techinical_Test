{
 "cells": [
  {
   "cell_type": "code",
   "execution_count": 1,
   "id": "9609e704-4b0c-4141-b9b6-6da2135d5978",
   "metadata": {},
   "outputs": [
    {
     "name": "stdin",
     "output_type": "stream",
     "text": [
      "Enter a word or phrase:  madam\n"
     ]
    },
    {
     "name": "stdout",
     "output_type": "stream",
     "text": [
      "\"madam\" is a palindrome.\n"
     ]
    }
   ],
   "source": [
    "# 1. Write a Python function that checks whether a word or phrase is palindrome or not.\n",
    "def is_palindrome(input_str):\n",
    "    clean_input = ''\n",
    "    \n",
    "    for char in input_str:\n",
    "        # Check if the character is alphanumeric\n",
    "        if char.isalnum():\n",
    "            # convert to lowercase\n",
    "            clean_input += char.lower()\n",
    "    # apply slicing to return either true or false\n",
    "    return clean_input == clean_input[::-1]\n",
    "\n",
    "# Get input from the user\n",
    "user_input = input(\"Enter a word or phrase: \")\n",
    "\n",
    "# Check if palindrome\n",
    "if is_palindrome(user_input):\n",
    "    print(f'\"{user_input}\" is a palindrome.')\n",
    "else:\n",
    "    print(f'\"{user_input}\" is not a palindrome.')"
   ]
  },
  {
   "cell_type": "code",
   "execution_count": 3,
   "id": "8cb6a0d9-2f11-4563-8ac4-ec270fc28f2d",
   "metadata": {},
   "outputs": [
    {
     "name": "stdin",
     "output_type": "stream",
     "text": [
      "Enter a sentence to check if it's a pangram:  This is it\n"
     ]
    },
    {
     "name": "stdout",
     "output_type": "stream",
     "text": [
      "The sentence is not a pangram.\n"
     ]
    }
   ],
   "source": [
    "# 2. Write a Python function to check whether a string is pangram or not. (Assume the string passed in does not have any punctuation)\n",
    "def is_pangram(user_sentence):\n",
    "    \n",
    "    user_sentence = user_sentence.lower()\n",
    "    \n",
    "    alphabet = set('abcdefghijklmnopqrstuvwxyz')\n",
    "    \n",
    "    sentence_set = set(user_sentence)\n",
    "    \n",
    "    # Check if all letters present\n",
    "    return alphabet.issubset(sentence_set)\n",
    "\n",
    "# Get user input\n",
    "user_input = input(\"Enter a sentence to check if it's a pangram: \")\n",
    "\n",
    "# Check if pangram\n",
    "if is_pangram(user_input):\n",
    "    print(\"The sentence is a pangram!\")\n",
    "else:\n",
    "    print(\"The sentence is not a pangram.\")"
   ]
  },
  {
   "cell_type": "code",
   "execution_count": 5,
   "id": "9a240f8c-2bc7-4295-acca-7a967d83878f",
   "metadata": {},
   "outputs": [
    {
     "name": "stdin",
     "output_type": "stream",
     "text": [
      "Enter an integer:  -65\n"
     ]
    },
    {
     "name": "stdout",
     "output_type": "stream",
     "text": [
      "Reversed integer: -56\n"
     ]
    }
   ],
   "source": [
    "# 3. Write a program that takes an integer as input and returns an integer with reversed digit ordering.\n",
    "def Reverse_Integer(Inputed_Num):\n",
    "    # number to a string\n",
    "    New_String = str(Inputed_Num)\n",
    "    \n",
    "    # Check if negative\n",
    "    if New_String[0] == '-':\n",
    "        \n",
    "        Reversed_Num = '-' + New_String[:0:-1]\n",
    "    else:\n",
    "        # Reverse the digits\n",
    "        Reversed_Num = New_String[::-1]\n",
    "    \n",
    "    # Convert back to integer\n",
    "    return int(Reversed_Num)\n",
    "\n",
    "# User input\n",
    "User_Input = int(input(\"Enter an integer: \"))\n",
    "Result = Reverse_Integer(User_Input)\n",
    "\n",
    "print(\"Reversed integer:\", Result)"
   ]
  },
  {
   "cell_type": "code",
   "execution_count": 7,
   "id": "ce42534b-ca4b-4785-bb9b-4b9f25801ef6",
   "metadata": {},
   "outputs": [
    {
     "name": "stdin",
     "output_type": "stream",
     "text": [
      "Enter a string:  hello son\n"
     ]
    },
    {
     "name": "stdout",
     "output_type": "stream",
     "text": [
      "Hello Son\n"
     ]
    }
   ],
   "source": [
    "# 4. Write a program that accepts a string as input, capitalizes the first letter of each word in the string, and then returns the result string.\n",
    "def Capitalize_Words():\n",
    "    # Accept user input\n",
    "    User_Input = input(\"Enter a string: \")\n",
    "    \n",
    "    Capitalized_String = User_Input.title()\n",
    "\n",
    "    return Capitalized_String\n",
    "    \n",
    "print(Capitalize_Words())"
   ]
  },
  {
   "cell_type": "code",
   "execution_count": null,
   "id": "776097fa-a750-4a87-a510-d5b5bba339c7",
   "metadata": {},
   "outputs": [],
   "source": []
  },
  {
   "cell_type": "code",
   "execution_count": null,
   "id": "b289b3bb-ca0a-4171-9189-7e80d0baef16",
   "metadata": {},
   "outputs": [],
   "source": []
  },
  {
   "cell_type": "code",
   "execution_count": null,
   "id": "dda90759-2f8a-4a7e-9708-a883e92155e9",
   "metadata": {},
   "outputs": [],
   "source": []
  }
 ],
 "metadata": {
  "kernelspec": {
   "display_name": "Python 3 (ipykernel)",
   "language": "python",
   "name": "python3"
  },
  "language_info": {
   "codemirror_mode": {
    "name": "ipython",
    "version": 3
   },
   "file_extension": ".py",
   "mimetype": "text/x-python",
   "name": "python",
   "nbconvert_exporter": "python",
   "pygments_lexer": "ipython3",
   "version": "3.11.7"
  }
 },
 "nbformat": 4,
 "nbformat_minor": 5
}
